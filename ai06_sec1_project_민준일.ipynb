{
  "nbformat": 4,
  "nbformat_minor": 0,
  "metadata": {
    "colab": {
      "name": "ai06_sec1_project_민준일",
      "provenance": [],
      "collapsed_sections": [],
      "authorship_tag": "ABX9TyMlOWOMgfFxH7XRgz+djtNi",
      "include_colab_link": true
    },
    "kernelspec": {
      "name": "python3",
      "display_name": "Python 3"
    },
    "language_info": {
      "name": "python"
    }
  },
  "cells": [
    {
      "cell_type": "markdown",
      "metadata": {
        "id": "view-in-github",
        "colab_type": "text"
      },
      "source": [
        "<a href=\"https://colab.research.google.com/github/alswnsdlf/sec1_project/blob/main/ai06_sec1_project_%EB%AF%BC%EC%A4%80%EC%9D%BC.ipynb\" target=\"_parent\"><img src=\"https://colab.research.google.com/assets/colab-badge.svg\" alt=\"Open In Colab\"/></a>"
      ]
    },
    {
      "cell_type": "code",
      "metadata": {
        "id": "z6KLWO4ZpAhT"
      },
      "source": [
        "## 지역에 따라서 선호하는 게임 장르가 다를까 라는 질문에 대답을 하셔야합니다.\n",
        "## 연도별 게임의 트렌드가 있을까 라는 질문에 대답을 하셔야합니다.\n",
        "## 출고량이 높은 게임에 대한 분석 및 시각화 프로세스가 포함되어야 합니다. = 출고량에 대해서 그래프 그리기"
      ],
      "execution_count": null,
      "outputs": []
    },
    {
      "cell_type": "code",
      "metadata": {
        "id": "8kDK7bQJA1EI"
      },
      "source": [
        "### Name : 게임의 이름입니다.\n",
        "### Platform : 게임이 지원되는 플랫폼의 이름입니다.\n",
        "### Year : 게임이 출시된 연도입니다.\n",
        "### Genre : 게임의 장르입니다.\n",
        "### Publisher : 게임을 제작한 회사입니다.\n",
        "### NA_Sales : 북미지역에서의 출고량입니다.\n",
        "### EU_Sales : 유럽지역에서의 출고량입니다.\n",
        "### JP_Sales : 일본지역에서의 출고량입니다.\n",
        "### Other_Sales : 기타지역에서의 출고량입니다."
      ],
      "execution_count": null,
      "outputs": []
    },
    {
      "cell_type": "code",
      "metadata": {
        "id": "wqQLNs2Vn4n5"
      },
      "source": [
        "import pandas as pd\n",
        "import numpy as np\n",
        "from datetime import timedelta\n",
        "import seaborn as sns"
      ],
      "execution_count": 1,
      "outputs": []
    },
    {
      "cell_type": "code",
      "metadata": {
        "colab": {
          "resources": {
            "http://localhost:8080/nbextensions/google.colab/files.js": {
              "data": "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",
              "ok": true,
              "headers": [
                [
                  "content-type",
                  "application/javascript"
                ]
              ],
              "status": 200,
              "status_text": ""
            }
          },
          "base_uri": "https://localhost:8080/",
          "height": 93
        },
        "id": "8uFJl4RloBU8",
        "outputId": "5e6f0a92-5c3e-47aa-9fff-a75909f82e9d"
      },
      "source": [
        "from google.colab import files\n",
        "myfile = files.upload()"
      ],
      "execution_count": 2,
      "outputs": [
        {
          "output_type": "display_data",
          "data": {
            "text/html": [
              "\n",
              "     <input type=\"file\" id=\"files-77dfd848-61f3-49a5-8065-29669aaecb46\" name=\"files[]\" multiple disabled\n",
              "        style=\"border:none\" />\n",
              "     <output id=\"result-77dfd848-61f3-49a5-8065-29669aaecb46\">\n",
              "      Upload widget is only available when the cell has been executed in the\n",
              "      current browser session. Please rerun this cell to enable.\n",
              "      </output>\n",
              "      <script src=\"/nbextensions/google.colab/files.js\"></script> "
            ],
            "text/plain": [
              "<IPython.core.display.HTML object>"
            ]
          },
          "metadata": {
            "tags": []
          }
        },
        {
          "output_type": "stream",
          "text": [
            "Saving gamea.xlsx to gamea.xlsx\n"
          ],
          "name": "stdout"
        }
      ]
    },
    {
      "cell_type": "code",
      "metadata": {
        "colab": {
          "base_uri": "https://localhost:8080/",
          "height": 640
        },
        "id": "4V7bAFV3oM2C",
        "outputId": "14486421-5c8c-4c24-8aea-2ed9a8b1cf8a"
      },
      "source": [
        "df = pd.read_excel(\"gamea.xlsx\")\n",
        "df"
      ],
      "execution_count": 3,
      "outputs": [
        {
          "output_type": "execute_result",
          "data": {
            "text/html": [
              "<div>\n",
              "<style scoped>\n",
              "    .dataframe tbody tr th:only-of-type {\n",
              "        vertical-align: middle;\n",
              "    }\n",
              "\n",
              "    .dataframe tbody tr th {\n",
              "        vertical-align: top;\n",
              "    }\n",
              "\n",
              "    .dataframe thead th {\n",
              "        text-align: right;\n",
              "    }\n",
              "</style>\n",
              "<table border=\"1\" class=\"dataframe\">\n",
              "  <thead>\n",
              "    <tr style=\"text-align: right;\">\n",
              "      <th></th>\n",
              "      <th>Name</th>\n",
              "      <th>Platform</th>\n",
              "      <th>Year</th>\n",
              "      <th>Genre</th>\n",
              "      <th>Publisher</th>\n",
              "      <th>NA_Sales</th>\n",
              "      <th>EU_Sales</th>\n",
              "      <th>JP_Sales</th>\n",
              "      <th>Other_Sales</th>\n",
              "    </tr>\n",
              "  </thead>\n",
              "  <tbody>\n",
              "    <tr>\n",
              "      <th>0</th>\n",
              "      <td>Candace Kane's Candy Factory</td>\n",
              "      <td>DS</td>\n",
              "      <td>2008</td>\n",
              "      <td>Action</td>\n",
              "      <td>Destineer</td>\n",
              "      <td>0.04</td>\n",
              "      <td>0</td>\n",
              "      <td>0</td>\n",
              "      <td>0</td>\n",
              "    </tr>\n",
              "    <tr>\n",
              "      <th>1</th>\n",
              "      <td>The Munchables</td>\n",
              "      <td>Wii</td>\n",
              "      <td>2009</td>\n",
              "      <td>Action</td>\n",
              "      <td>Namco Bandai Games</td>\n",
              "      <td>0.17</td>\n",
              "      <td>0</td>\n",
              "      <td>0</td>\n",
              "      <td>0.01</td>\n",
              "    </tr>\n",
              "    <tr>\n",
              "      <th>2</th>\n",
              "      <td>Otome wa Oanesama Boku ni Koi Shiteru Portable</td>\n",
              "      <td>PSP</td>\n",
              "      <td>2010</td>\n",
              "      <td>Adventure</td>\n",
              "      <td>Alchemist</td>\n",
              "      <td>0</td>\n",
              "      <td>0</td>\n",
              "      <td>0.02</td>\n",
              "      <td>0</td>\n",
              "    </tr>\n",
              "    <tr>\n",
              "      <th>3</th>\n",
              "      <td>Deal or No Deal: Special Edition</td>\n",
              "      <td>DS</td>\n",
              "      <td>2010</td>\n",
              "      <td>isc</td>\n",
              "      <td>Zoo Games</td>\n",
              "      <td>0.04</td>\n",
              "      <td>0</td>\n",
              "      <td>0</td>\n",
              "      <td>0</td>\n",
              "    </tr>\n",
              "    <tr>\n",
              "      <th>4</th>\n",
              "      <td>Ben 10 Ultimate Alien: Cosmic Destruction</td>\n",
              "      <td>PS3</td>\n",
              "      <td>2010</td>\n",
              "      <td>platform</td>\n",
              "      <td>D3Publisher</td>\n",
              "      <td>0.12</td>\n",
              "      <td>0.09</td>\n",
              "      <td>0</td>\n",
              "      <td>0.04</td>\n",
              "    </tr>\n",
              "    <tr>\n",
              "      <th>...</th>\n",
              "      <td>...</td>\n",
              "      <td>...</td>\n",
              "      <td>...</td>\n",
              "      <td>...</td>\n",
              "      <td>...</td>\n",
              "      <td>...</td>\n",
              "      <td>...</td>\n",
              "      <td>...</td>\n",
              "      <td>...</td>\n",
              "    </tr>\n",
              "    <tr>\n",
              "      <th>16593</th>\n",
              "      <td>Ice Age 2: The Meltdown</td>\n",
              "      <td>GC</td>\n",
              "      <td>2006</td>\n",
              "      <td>platform</td>\n",
              "      <td>Vivendi Games</td>\n",
              "      <td>0.15</td>\n",
              "      <td>0.04</td>\n",
              "      <td>0</td>\n",
              "      <td>0.01</td>\n",
              "    </tr>\n",
              "    <tr>\n",
              "      <th>16594</th>\n",
              "      <td>Rainbow Islands: Revolution</td>\n",
              "      <td>PSP</td>\n",
              "      <td>2005</td>\n",
              "      <td>Action</td>\n",
              "      <td>Rising Star Games</td>\n",
              "      <td>0.01</td>\n",
              "      <td>0</td>\n",
              "      <td>0</td>\n",
              "      <td>0</td>\n",
              "    </tr>\n",
              "    <tr>\n",
              "      <th>16595</th>\n",
              "      <td>NBA 2K16</td>\n",
              "      <td>PS3</td>\n",
              "      <td>2015</td>\n",
              "      <td>Sports</td>\n",
              "      <td>Take-Two Interactive</td>\n",
              "      <td>0.44</td>\n",
              "      <td>0.19</td>\n",
              "      <td>0.03</td>\n",
              "      <td>0.13</td>\n",
              "    </tr>\n",
              "    <tr>\n",
              "      <th>16596</th>\n",
              "      <td>Toukiden: The Age of Demons</td>\n",
              "      <td>PSV</td>\n",
              "      <td>2013</td>\n",
              "      <td>Action</td>\n",
              "      <td>Tecmo Koei</td>\n",
              "      <td>0.05</td>\n",
              "      <td>0.05</td>\n",
              "      <td>0.25</td>\n",
              "      <td>0.03</td>\n",
              "    </tr>\n",
              "    <tr>\n",
              "      <th>16597</th>\n",
              "      <td>The King of Fighters '95</td>\n",
              "      <td>PS</td>\n",
              "      <td>1996</td>\n",
              "      <td>Fighting</td>\n",
              "      <td>Sony Computer Entertainment</td>\n",
              "      <td>0</td>\n",
              "      <td>0</td>\n",
              "      <td>0.16</td>\n",
              "      <td>0.01</td>\n",
              "    </tr>\n",
              "  </tbody>\n",
              "</table>\n",
              "<p>16598 rows × 9 columns</p>\n",
              "</div>"
            ],
            "text/plain": [
              "                                                 Name  ... Other_Sales\n",
              "0                        Candace Kane's Candy Factory  ...           0\n",
              "1                                      The Munchables  ...        0.01\n",
              "2      Otome wa Oanesama Boku ni Koi Shiteru Portable  ...           0\n",
              "3                    Deal or No Deal: Special Edition  ...           0\n",
              "4           Ben 10 Ultimate Alien: Cosmic Destruction  ...        0.04\n",
              "...                                               ...  ...         ...\n",
              "16593                         Ice Age 2: The Meltdown  ...        0.01\n",
              "16594                     Rainbow Islands: Revolution  ...           0\n",
              "16595                                        NBA 2K16  ...        0.13\n",
              "16596                     Toukiden: The Age of Demons  ...        0.03\n",
              "16597                        The King of Fighters '95  ...        0.01\n",
              "\n",
              "[16598 rows x 9 columns]"
            ]
          },
          "metadata": {
            "tags": []
          },
          "execution_count": 3
        }
      ]
    },
    {
      "cell_type": "code",
      "metadata": {
        "id": "TbFmMxUmWqFa"
      },
      "source": [
        "def value_to_float(x):\n",
        "    if type(x) == float or type(x) == int:\n",
        "        return x\n",
        "    if 'K' in x:\n",
        "        if len(x) > 1:\n",
        "            return float(x.replace('K', '')) / 1000\n",
        "        return 1000.0\n",
        "    if 'M' in x:\n",
        "        if len(x) > 1:\n",
        "            return float(x.replace('M', ''))\n",
        "        return 1000000.0\n",
        "df['NA_Sales'] = df['NA_Sales'].apply(value_to_float)\n",
        "df['EU_Sales'] = df['EU_Sales'].apply(value_to_float)\n",
        "df['JP_Sales'] = df['JP_Sales'].apply(value_to_float)\n",
        "df['Other_Sales'] = df['Other_Sales'].apply(value_to_float)"
      ],
      "execution_count": 5,
      "outputs": []
    },
    {
      "cell_type": "code",
      "metadata": {
        "id": "x2qovawlfLXY"
      },
      "source": [
        "df = df.dropna()"
      ],
      "execution_count": 6,
      "outputs": []
    },
    {
      "cell_type": "code",
      "metadata": {
        "colab": {
          "base_uri": "https://localhost:8080/"
        },
        "id": "gqOm8DDgt2I0",
        "outputId": "39471c88-0db1-43c1-add7-8cae4c48ba03"
      },
      "source": [
        "def year(string):\n",
        "    if string <= 20:\n",
        "        string += 2000\n",
        "        return string\n",
        "    elif string >=20 and string <= 100:\n",
        "        string += 1900\n",
        "        return string\n",
        "    else:\n",
        "        return string\n",
        "df['Year'] = df['Year'].apply(year)"
      ],
      "execution_count": 7,
      "outputs": [
        {
          "output_type": "stream",
          "text": [
            "/usr/local/lib/python3.7/dist-packages/ipykernel_launcher.py:10: SettingWithCopyWarning: \n",
            "A value is trying to be set on a copy of a slice from a DataFrame.\n",
            "Try using .loc[row_indexer,col_indexer] = value instead\n",
            "\n",
            "See the caveats in the documentation: https://pandas.pydata.org/pandas-docs/stable/user_guide/indexing.html#returning-a-view-versus-a-copy\n",
            "  # Remove the CWD from sys.path while we load stuff.\n"
          ],
          "name": "stderr"
        }
      ]
    },
    {
      "cell_type": "code",
      "metadata": {
        "id": "spQ2pvALYiMh"
      },
      "source": [
        "columns = df['Genre'].dropna().unique()\n",
        "columns = df['Name'].dropna().unique()"
      ],
      "execution_count": 8,
      "outputs": []
    },
    {
      "cell_type": "code",
      "metadata": {
        "colab": {
          "base_uri": "https://localhost:8080/",
          "height": 419
        },
        "id": "J88o8nI7LZuW",
        "outputId": "bef64a4e-2242-4445-a214-ce9e83c70e79"
      },
      "source": [
        "df1 = df[['Genre', 'NA_Sales', 'EU_Sales', 'JP_Sales', 'Other_Sales']]\n",
        "df1"
      ],
      "execution_count": 9,
      "outputs": [
        {
          "output_type": "execute_result",
          "data": {
            "text/html": [
              "<div>\n",
              "<style scoped>\n",
              "    .dataframe tbody tr th:only-of-type {\n",
              "        vertical-align: middle;\n",
              "    }\n",
              "\n",
              "    .dataframe tbody tr th {\n",
              "        vertical-align: top;\n",
              "    }\n",
              "\n",
              "    .dataframe thead th {\n",
              "        text-align: right;\n",
              "    }\n",
              "</style>\n",
              "<table border=\"1\" class=\"dataframe\">\n",
              "  <thead>\n",
              "    <tr style=\"text-align: right;\">\n",
              "      <th></th>\n",
              "      <th>Genre</th>\n",
              "      <th>NA_Sales</th>\n",
              "      <th>EU_Sales</th>\n",
              "      <th>JP_Sales</th>\n",
              "      <th>Other_Sales</th>\n",
              "    </tr>\n",
              "  </thead>\n",
              "  <tbody>\n",
              "    <tr>\n",
              "      <th>0</th>\n",
              "      <td>Action</td>\n",
              "      <td>0.04</td>\n",
              "      <td>0.00</td>\n",
              "      <td>0.00</td>\n",
              "      <td>0.00</td>\n",
              "    </tr>\n",
              "    <tr>\n",
              "      <th>1</th>\n",
              "      <td>Action</td>\n",
              "      <td>0.17</td>\n",
              "      <td>0.00</td>\n",
              "      <td>0.00</td>\n",
              "      <td>0.01</td>\n",
              "    </tr>\n",
              "    <tr>\n",
              "      <th>2</th>\n",
              "      <td>Adventure</td>\n",
              "      <td>0.00</td>\n",
              "      <td>0.00</td>\n",
              "      <td>0.02</td>\n",
              "      <td>0.00</td>\n",
              "    </tr>\n",
              "    <tr>\n",
              "      <th>3</th>\n",
              "      <td>isc</td>\n",
              "      <td>0.04</td>\n",
              "      <td>0.00</td>\n",
              "      <td>0.00</td>\n",
              "      <td>0.00</td>\n",
              "    </tr>\n",
              "    <tr>\n",
              "      <th>4</th>\n",
              "      <td>platform</td>\n",
              "      <td>0.12</td>\n",
              "      <td>0.09</td>\n",
              "      <td>0.00</td>\n",
              "      <td>0.04</td>\n",
              "    </tr>\n",
              "    <tr>\n",
              "      <th>...</th>\n",
              "      <td>...</td>\n",
              "      <td>...</td>\n",
              "      <td>...</td>\n",
              "      <td>...</td>\n",
              "      <td>...</td>\n",
              "    </tr>\n",
              "    <tr>\n",
              "      <th>16593</th>\n",
              "      <td>platform</td>\n",
              "      <td>0.15</td>\n",
              "      <td>0.04</td>\n",
              "      <td>0.00</td>\n",
              "      <td>0.01</td>\n",
              "    </tr>\n",
              "    <tr>\n",
              "      <th>16594</th>\n",
              "      <td>Action</td>\n",
              "      <td>0.01</td>\n",
              "      <td>0.00</td>\n",
              "      <td>0.00</td>\n",
              "      <td>0.00</td>\n",
              "    </tr>\n",
              "    <tr>\n",
              "      <th>16595</th>\n",
              "      <td>Sports</td>\n",
              "      <td>0.44</td>\n",
              "      <td>0.19</td>\n",
              "      <td>0.03</td>\n",
              "      <td>0.13</td>\n",
              "    </tr>\n",
              "    <tr>\n",
              "      <th>16596</th>\n",
              "      <td>Action</td>\n",
              "      <td>0.05</td>\n",
              "      <td>0.05</td>\n",
              "      <td>0.25</td>\n",
              "      <td>0.03</td>\n",
              "    </tr>\n",
              "    <tr>\n",
              "      <th>16597</th>\n",
              "      <td>Fighting</td>\n",
              "      <td>0.00</td>\n",
              "      <td>0.00</td>\n",
              "      <td>0.16</td>\n",
              "      <td>0.01</td>\n",
              "    </tr>\n",
              "  </tbody>\n",
              "</table>\n",
              "<p>16289 rows × 5 columns</p>\n",
              "</div>"
            ],
            "text/plain": [
              "           Genre  NA_Sales  EU_Sales  JP_Sales  Other_Sales\n",
              "0         Action      0.04      0.00      0.00         0.00\n",
              "1         Action      0.17      0.00      0.00         0.01\n",
              "2      Adventure      0.00      0.00      0.02         0.00\n",
              "3            isc      0.04      0.00      0.00         0.00\n",
              "4       platform      0.12      0.09      0.00         0.04\n",
              "...          ...       ...       ...       ...          ...\n",
              "16593   platform      0.15      0.04      0.00         0.01\n",
              "16594     Action      0.01      0.00      0.00         0.00\n",
              "16595     Sports      0.44      0.19      0.03         0.13\n",
              "16596     Action      0.05      0.05      0.25         0.03\n",
              "16597   Fighting      0.00      0.00      0.16         0.01\n",
              "\n",
              "[16289 rows x 5 columns]"
            ]
          },
          "metadata": {
            "tags": []
          },
          "execution_count": 9
        }
      ]
    },
    {
      "cell_type": "code",
      "metadata": {
        "id": "HToiXeeEOCnd"
      },
      "source": [
        "dfg=df['Genre']"
      ],
      "execution_count": 10,
      "outputs": []
    },
    {
      "cell_type": "code",
      "metadata": {
        "id": "vSXrgNwSMQrZ"
      },
      "source": [
        "## 지역에 따라서 선호하는 게임 장르 차이"
      ],
      "execution_count": null,
      "outputs": []
    },
    {
      "cell_type": "code",
      "metadata": {
        "id": "UtzKD1Zsg8IR"
      },
      "source": [
        "import pandas as pd\n",
        "import numpy as np\n",
        "import seaborn as sns\n",
        "import requests\n",
        "import matplotlib.pyplot as plt\n",
        "from scipy import stats\n",
        "from scipy.stats import chisquare\n",
        "from scipy.stats import chi2_contingency"
      ],
      "execution_count": 11,
      "outputs": []
    },
    {
      "cell_type": "code",
      "metadata": {
        "id": "h-EquKa1gknH"
      },
      "source": [
        "dfn = df1['NA_Sales']\n",
        "dfe = df1['EU_Sales']\n",
        "dfj = df1['JP_Sales']\n",
        "dfo = df1['Other_Sales']"
      ],
      "execution_count": 12,
      "outputs": []
    },
    {
      "cell_type": "code",
      "metadata": {
        "colab": {
          "base_uri": "https://localhost:8080/"
        },
        "id": "NT5zVs4Ug3Vl",
        "outputId": "acab44ad-5404-411e-fdf3-bd0dbca33342"
      },
      "source": [
        "stats.ttest_ind(dfn, dfe)"
      ],
      "execution_count": 13,
      "outputs": [
        {
          "output_type": "execute_result",
          "data": {
            "text/plain": [
              "Ttest_indResult(statistic=15.558196606164977, pvalue=2.1979379989394817e-54)"
            ]
          },
          "metadata": {
            "tags": []
          },
          "execution_count": 13
        }
      ]
    },
    {
      "cell_type": "code",
      "metadata": {
        "colab": {
          "base_uri": "https://localhost:8080/"
        },
        "id": "IAexrXAMhP2B",
        "outputId": "8ef1621d-eb48-4071-8d98-0a95435788bd"
      },
      "source": [
        "stats.ttest_ind(dfn, dfj)"
      ],
      "execution_count": 14,
      "outputs": [
        {
          "output_type": "execute_result",
          "data": {
            "text/plain": [
              "Ttest_indResult(statistic=27.109771552908974, pvalue=4.534686549357139e-160)"
            ]
          },
          "metadata": {
            "tags": []
          },
          "execution_count": 14
        }
      ]
    },
    {
      "cell_type": "code",
      "metadata": {
        "colab": {
          "base_uri": "https://localhost:8080/"
        },
        "id": "km4QITtghQrV",
        "outputId": "f3871f7d-1985-431e-c18c-c4d32338fb57"
      },
      "source": [
        "stats.ttest_ind(dfn, dfo)"
      ],
      "execution_count": 15,
      "outputs": [
        {
          "output_type": "execute_result",
          "data": {
            "text/plain": [
              "Ttest_indResult(statistic=32.845594175549536, pvalue=8.35747902657906e-233)"
            ]
          },
          "metadata": {
            "tags": []
          },
          "execution_count": 15
        }
      ]
    },
    {
      "cell_type": "code",
      "metadata": {
        "colab": {
          "base_uri": "https://localhost:8080/"
        },
        "id": "CKBocJ39hRqf",
        "outputId": "a6dbf09a-15b1-4424-879c-b282a34a6253"
      },
      "source": [
        "stats.ttest_ind(dfe, dfj)"
      ],
      "execution_count": 16,
      "outputs": [
        {
          "output_type": "execute_result",
          "data": {
            "text/plain": [
              "Ttest_indResult(statistic=14.726633336211806, pvalue=6.249307347242051e-49)"
            ]
          },
          "metadata": {
            "tags": []
          },
          "execution_count": 16
        }
      ]
    },
    {
      "cell_type": "code",
      "metadata": {
        "colab": {
          "base_uri": "https://localhost:8080/"
        },
        "id": "nJPsmGfgg-EO",
        "outputId": "25ca2a3a-0846-44bd-a4d8-9ef3657f4dab"
      },
      "source": [
        "stats.ttest_ind(dfe, dfo)"
      ],
      "execution_count": 17,
      "outputs": [
        {
          "output_type": "execute_result",
          "data": {
            "text/plain": [
              "Ttest_indResult(statistic=23.315976981864118, pvalue=2.900522475974147e-119)"
            ]
          },
          "metadata": {
            "tags": []
          },
          "execution_count": 17
        }
      ]
    },
    {
      "cell_type": "code",
      "metadata": {
        "colab": {
          "base_uri": "https://localhost:8080/"
        },
        "id": "dHUoCbvUhTHt",
        "outputId": "fcfa5a8d-6773-4ecf-dd96-c8b9ae698550"
      },
      "source": [
        "stats.ttest_ind(dfj, dfo)"
      ],
      "execution_count": 18,
      "outputs": [
        {
          "output_type": "execute_result",
          "data": {
            "text/plain": [
              "Ttest_indResult(statistic=10.623412136256935, pvalue=2.561231675612287e-26)"
            ]
          },
          "metadata": {
            "tags": []
          },
          "execution_count": 18
        }
      ]
    },
    {
      "cell_type": "code",
      "metadata": {
        "id": "ja_9IIB_hZW8"
      },
      "source": [
        "## 가정 : 지역별로 선호하는 게임의 장르는 다르다.\n",
        "## 이를 확인하기 위해, 지역별로 선호하는 게임의 장르는 같다는 가설을 확인해봐야한다.\n",
        "##  모든 p-value(검정 통계량) 의 값이 0.05 보다 작다.\n",
        "##  p-value 가 0.05 보다 작으므로 지역별로 선호하는 게임의 장르는 같지 않을 수도\n",
        "## 있다, 즉, 지역별로 게임의 장르에 대한 선호도가 다를 수도 있다는 결론이 도출된다."
      ],
      "execution_count": null,
      "outputs": []
    },
    {
      "cell_type": "code",
      "metadata": {
        "colab": {
          "base_uri": "https://localhost:8080/",
          "height": 452
        },
        "id": "45-k1v3bPmMj",
        "outputId": "41567218-039d-4c54-9089-9c1b5d5f1c49"
      },
      "source": [
        "df1.groupby('Genre').sum()"
      ],
      "execution_count": 24,
      "outputs": [
        {
          "output_type": "execute_result",
          "data": {
            "text/html": [
              "<div>\n",
              "<style scoped>\n",
              "    .dataframe tbody tr th:only-of-type {\n",
              "        vertical-align: middle;\n",
              "    }\n",
              "\n",
              "    .dataframe tbody tr th {\n",
              "        vertical-align: top;\n",
              "    }\n",
              "\n",
              "    .dataframe thead th {\n",
              "        text-align: right;\n",
              "    }\n",
              "</style>\n",
              "<table border=\"1\" class=\"dataframe\">\n",
              "  <thead>\n",
              "    <tr style=\"text-align: right;\">\n",
              "      <th></th>\n",
              "      <th>NA_Sales</th>\n",
              "      <th>EU_Sales</th>\n",
              "      <th>JP_Sales</th>\n",
              "      <th>Other_Sales</th>\n",
              "    </tr>\n",
              "    <tr>\n",
              "      <th>Genre</th>\n",
              "      <th></th>\n",
              "      <th></th>\n",
              "      <th></th>\n",
              "      <th></th>\n",
              "    </tr>\n",
              "  </thead>\n",
              "  <tbody>\n",
              "    <tr>\n",
              "      <th>Action</th>\n",
              "      <td>864.89</td>\n",
              "      <td>516.25</td>\n",
              "      <td>161.53</td>\n",
              "      <td>186.56</td>\n",
              "    </tr>\n",
              "    <tr>\n",
              "      <th>Adventure</th>\n",
              "      <td>107.56</td>\n",
              "      <td>68.38</td>\n",
              "      <td>56.19</td>\n",
              "      <td>18.29</td>\n",
              "    </tr>\n",
              "    <tr>\n",
              "      <th>Fighting</th>\n",
              "      <td>220.74</td>\n",
              "      <td>100.00</td>\n",
              "      <td>87.15</td>\n",
              "      <td>36.19</td>\n",
              "    </tr>\n",
              "    <tr>\n",
              "      <th>Puzzle</th>\n",
              "      <td>121.58</td>\n",
              "      <td>50.47</td>\n",
              "      <td>56.24</td>\n",
              "      <td>12.44</td>\n",
              "    </tr>\n",
              "    <tr>\n",
              "      <th>Racing</th>\n",
              "      <td>356.89</td>\n",
              "      <td>236.31</td>\n",
              "      <td>56.61</td>\n",
              "      <td>76.68</td>\n",
              "    </tr>\n",
              "    <tr>\n",
              "      <th>Role-Playing</th>\n",
              "      <td>319.38</td>\n",
              "      <td>183.51</td>\n",
              "      <td>343.62</td>\n",
              "      <td>56.85</td>\n",
              "    </tr>\n",
              "    <tr>\n",
              "      <th>Shooter</th>\n",
              "      <td>574.48</td>\n",
              "      <td>310.23</td>\n",
              "      <td>38.18</td>\n",
              "      <td>101.86</td>\n",
              "    </tr>\n",
              "    <tr>\n",
              "      <th>Siulation</th>\n",
              "      <td>181.43</td>\n",
              "      <td>113.01</td>\n",
              "      <td>63.54</td>\n",
              "      <td>31.32</td>\n",
              "    </tr>\n",
              "    <tr>\n",
              "      <th>Sports</th>\n",
              "      <td>670.10</td>\n",
              "      <td>371.34</td>\n",
              "      <td>134.76</td>\n",
              "      <td>132.65</td>\n",
              "    </tr>\n",
              "    <tr>\n",
              "      <th>Strategy</th>\n",
              "      <td>67.83</td>\n",
              "      <td>44.82</td>\n",
              "      <td>49.10</td>\n",
              "      <td>11.23</td>\n",
              "    </tr>\n",
              "    <tr>\n",
              "      <th>isc</th>\n",
              "      <td>394.82</td>\n",
              "      <td>208.16</td>\n",
              "      <td>104.18</td>\n",
              "      <td>72.65</td>\n",
              "    </tr>\n",
              "    <tr>\n",
              "      <th>platform</th>\n",
              "      <td>447.95</td>\n",
              "      <td>204.21</td>\n",
              "      <td>133.05</td>\n",
              "      <td>52.19</td>\n",
              "    </tr>\n",
              "  </tbody>\n",
              "</table>\n",
              "</div>"
            ],
            "text/plain": [
              "              NA_Sales  EU_Sales  JP_Sales  Other_Sales\n",
              "Genre                                                  \n",
              "Action          864.89    516.25    161.53       186.56\n",
              "Adventure       107.56     68.38     56.19        18.29\n",
              "Fighting        220.74    100.00     87.15        36.19\n",
              "Puzzle          121.58     50.47     56.24        12.44\n",
              "Racing          356.89    236.31     56.61        76.68\n",
              "Role-Playing    319.38    183.51    343.62        56.85\n",
              "Shooter         574.48    310.23     38.18       101.86\n",
              "Siulation       181.43    113.01     63.54        31.32\n",
              "Sports          670.10    371.34    134.76       132.65\n",
              "Strategy         67.83     44.82     49.10        11.23\n",
              "isc             394.82    208.16    104.18        72.65\n",
              "platform        447.95    204.21    133.05        52.19"
            ]
          },
          "metadata": {
            "tags": []
          },
          "execution_count": 24
        }
      ]
    },
    {
      "cell_type": "code",
      "metadata": {
        "id": "Tfc0w8DVUp6X"
      },
      "source": [
        "## 각 지역별 장르 총 출고량 현황"
      ],
      "execution_count": null,
      "outputs": []
    },
    {
      "cell_type": "code",
      "metadata": {
        "colab": {
          "base_uri": "https://localhost:8080/",
          "height": 349
        },
        "id": "zrOnNh-MTRlf",
        "outputId": "e054c10b-c2d0-4236-c04e-7d9d70eb0f2f"
      },
      "source": [
        "df1.groupby(\"Genre\").NA_Sales.sum().sort_values(ascending=False)[:12].plot.bar()"
      ],
      "execution_count": 20,
      "outputs": [
        {
          "output_type": "execute_result",
          "data": {
            "text/plain": [
              "<matplotlib.axes._subplots.AxesSubplot at 0x7fa2e46d07d0>"
            ]
          },
          "metadata": {
            "tags": []
          },
          "execution_count": 20
        },
        {
          "output_type": "display_data",
          "data": {
            "image/png": "[encoded data removed]",
            "text/plain": [
              "<Figure size 432x288 with 1 Axes>"
            ]
          },
          "metadata": {
            "tags": [],
            "needs_background": "light"
          }
        }
      ]
    },
    {
      "cell_type": "code",
      "metadata": {
        "colab": {
          "base_uri": "https://localhost:8080/",
          "height": 349
        },
        "id": "zrh_4TkYUT5v",
        "outputId": "143cb79f-89a9-41a5-d165-433f19637111"
      },
      "source": [
        "df1.groupby(\"Genre\").EU_Sales.sum().sort_values(ascending=False)[:12].plot.bar()"
      ],
      "execution_count": 21,
      "outputs": [
        {
          "output_type": "execute_result",
          "data": {
            "text/plain": [
              "<matplotlib.axes._subplots.AxesSubplot at 0x7fa2e4718450>"
            ]
          },
          "metadata": {
            "tags": []
          },
          "execution_count": 21
        },
        {
          "output_type": "display_data",
          "data": {
            "image/png": "[encoded data removed]",
            "text/plain": [
              "<Figure size 432x288 with 1 Axes>"
            ]
          },
          "metadata": {
            "tags": [],
            "needs_background": "light"
          }
        }
      ]
    },
    {
      "cell_type": "code",
      "metadata": {
        "colab": {
          "base_uri": "https://localhost:8080/",
          "height": 349
        },
        "id": "OEzmV3p2UVoE",
        "outputId": "ac04e476-724c-4ac2-eb49-3cd788f967e4"
      },
      "source": [
        "df1.groupby(\"Genre\").JP_Sales.sum().sort_values(ascending=False)[:12].plot.bar()"
      ],
      "execution_count": 22,
      "outputs": [
        {
          "output_type": "execute_result",
          "data": {
            "text/plain": [
              "<matplotlib.axes._subplots.AxesSubplot at 0x7fa2e367f990>"
            ]
          },
          "metadata": {
            "tags": []
          },
          "execution_count": 22
        },
        {
          "output_type": "display_data",
          "data": {
            "image/png": "[encoded data removed]",
            "text/plain": [
              "<Figure size 432x288 with 1 Axes>"
            ]
          },
          "metadata": {
            "tags": [],
            "needs_background": "light"
          }
        }
      ]
    },
    {
      "cell_type": "code",
      "metadata": {
        "colab": {
          "base_uri": "https://localhost:8080/",
          "height": 349
        },
        "id": "cdbKoXnTUh6S",
        "outputId": "6eefa963-cf4e-4bb2-d925-7a5498219330"
      },
      "source": [
        "df1.groupby(\"Genre\").Other_Sales.sum().sort_values(ascending=False)[:12].plot.bar()"
      ],
      "execution_count": 23,
      "outputs": [
        {
          "output_type": "execute_result",
          "data": {
            "text/plain": [
              "<matplotlib.axes._subplots.AxesSubplot at 0x7fa2e35d0890>"
            ]
          },
          "metadata": {
            "tags": []
          },
          "execution_count": 23
        },
        {
          "output_type": "display_data",
          "data": {
            "image/png": "[encoded data removed]",
            "text/plain": [
              "<Figure size 432x288 with 1 Axes>"
            ]
          },
          "metadata": {
            "tags": [],
            "needs_background": "light"
          }
        }
      ]
    },
    {
      "cell_type": "code",
      "metadata": {
        "id": "k2wJSBHWXlMJ"
      },
      "source": [
        "## 카이제곱검정\n",
        "## 관찰된 빈도가 기대되는 빈도와 의미있게 다른지의 여부 검정"
      ],
      "execution_count": null,
      "outputs": []
    },
    {
      "cell_type": "code",
      "metadata": {
        "id": "pF9m9iSONwif"
      },
      "source": [
        "## 연도별 게임의 트랜드 구하기\n",
        "## 대립가설 : 연도별로 트렌드는 있을 것이다.\n",
        "## 귀무가설 : 연도별로 트렌드는 없을 것이다."
      ],
      "execution_count": null,
      "outputs": []
    },
    {
      "cell_type": "code",
      "metadata": {
        "colab": {
          "base_uri": "https://localhost:8080/",
          "height": 489
        },
        "id": "oTC87nuW3ipY",
        "outputId": "2388ae00-b006-4b03-9c51-63627976e350"
      },
      "source": [
        "dfp = pd.crosstab(df['Genre'], df['Year'])\n",
        "dfp"
      ],
      "execution_count": 26,
      "outputs": [
        {
          "output_type": "execute_result",
          "data": {
            "text/html": [
              "<div>\n",
              "<style scoped>\n",
              "    .dataframe tbody tr th:only-of-type {\n",
              "        vertical-align: middle;\n",
              "    }\n",
              "\n",
              "    .dataframe tbody tr th {\n",
              "        vertical-align: top;\n",
              "    }\n",
              "\n",
              "    .dataframe thead th {\n",
              "        text-align: right;\n",
              "    }\n",
              "</style>\n",
              "<table border=\"1\" class=\"dataframe\">\n",
              "  <thead>\n",
              "    <tr style=\"text-align: right;\">\n",
              "      <th>Year</th>\n",
              "      <th>1980</th>\n",
              "      <th>1981</th>\n",
              "      <th>1982</th>\n",
              "      <th>1983</th>\n",
              "      <th>1984</th>\n",
              "      <th>1985</th>\n",
              "      <th>1986</th>\n",
              "      <th>1987</th>\n",
              "      <th>1988</th>\n",
              "      <th>1989</th>\n",
              "      <th>1990</th>\n",
              "      <th>1991</th>\n",
              "      <th>1992</th>\n",
              "      <th>1993</th>\n",
              "      <th>1994</th>\n",
              "      <th>1995</th>\n",
              "      <th>1996</th>\n",
              "      <th>1997</th>\n",
              "      <th>1998</th>\n",
              "      <th>1999</th>\n",
              "      <th>2000</th>\n",
              "      <th>2001</th>\n",
              "      <th>2002</th>\n",
              "      <th>2003</th>\n",
              "      <th>2004</th>\n",
              "      <th>2005</th>\n",
              "      <th>2006</th>\n",
              "      <th>2007</th>\n",
              "      <th>2008</th>\n",
              "      <th>2009</th>\n",
              "      <th>2010</th>\n",
              "      <th>2011</th>\n",
              "      <th>2012</th>\n",
              "      <th>2013</th>\n",
              "      <th>2014</th>\n",
              "      <th>2015</th>\n",
              "      <th>2016</th>\n",
              "      <th>2017</th>\n",
              "      <th>2020</th>\n",
              "    </tr>\n",
              "    <tr>\n",
              "      <th>Genre</th>\n",
              "      <th></th>\n",
              "      <th></th>\n",
              "      <th></th>\n",
              "      <th></th>\n",
              "      <th></th>\n",
              "      <th></th>\n",
              "      <th></th>\n",
              "      <th></th>\n",
              "      <th></th>\n",
              "      <th></th>\n",
              "      <th></th>\n",
              "      <th></th>\n",
              "      <th></th>\n",
              "      <th></th>\n",
              "      <th></th>\n",
              "      <th></th>\n",
              "      <th></th>\n",
              "      <th></th>\n",
              "      <th></th>\n",
              "      <th></th>\n",
              "      <th></th>\n",
              "      <th></th>\n",
              "      <th></th>\n",
              "      <th></th>\n",
              "      <th></th>\n",
              "      <th></th>\n",
              "      <th></th>\n",
              "      <th></th>\n",
              "      <th></th>\n",
              "      <th></th>\n",
              "      <th></th>\n",
              "      <th></th>\n",
              "      <th></th>\n",
              "      <th></th>\n",
              "      <th></th>\n",
              "      <th></th>\n",
              "      <th></th>\n",
              "      <th></th>\n",
              "      <th></th>\n",
              "    </tr>\n",
              "  </thead>\n",
              "  <tbody>\n",
              "    <tr>\n",
              "      <th>Action</th>\n",
              "      <td>1</td>\n",
              "      <td>25</td>\n",
              "      <td>18</td>\n",
              "      <td>7</td>\n",
              "      <td>1</td>\n",
              "      <td>2</td>\n",
              "      <td>6</td>\n",
              "      <td>2</td>\n",
              "      <td>2</td>\n",
              "      <td>2</td>\n",
              "      <td>3</td>\n",
              "      <td>5</td>\n",
              "      <td>1</td>\n",
              "      <td>6</td>\n",
              "      <td>4</td>\n",
              "      <td>8</td>\n",
              "      <td>20</td>\n",
              "      <td>31</td>\n",
              "      <td>44</td>\n",
              "      <td>39</td>\n",
              "      <td>44</td>\n",
              "      <td>67</td>\n",
              "      <td>127</td>\n",
              "      <td>145</td>\n",
              "      <td>125</td>\n",
              "      <td>193</td>\n",
              "      <td>185</td>\n",
              "      <td>212</td>\n",
              "      <td>221</td>\n",
              "      <td>272</td>\n",
              "      <td>227</td>\n",
              "      <td>240</td>\n",
              "      <td>264</td>\n",
              "      <td>148</td>\n",
              "      <td>186</td>\n",
              "      <td>254</td>\n",
              "      <td>118</td>\n",
              "      <td>1</td>\n",
              "      <td>0</td>\n",
              "    </tr>\n",
              "    <tr>\n",
              "      <th>Adventure</th>\n",
              "      <td>0</td>\n",
              "      <td>0</td>\n",
              "      <td>0</td>\n",
              "      <td>1</td>\n",
              "      <td>0</td>\n",
              "      <td>0</td>\n",
              "      <td>0</td>\n",
              "      <td>1</td>\n",
              "      <td>0</td>\n",
              "      <td>0</td>\n",
              "      <td>0</td>\n",
              "      <td>2</td>\n",
              "      <td>4</td>\n",
              "      <td>1</td>\n",
              "      <td>4</td>\n",
              "      <td>13</td>\n",
              "      <td>17</td>\n",
              "      <td>14</td>\n",
              "      <td>23</td>\n",
              "      <td>20</td>\n",
              "      <td>16</td>\n",
              "      <td>21</td>\n",
              "      <td>41</td>\n",
              "      <td>12</td>\n",
              "      <td>38</td>\n",
              "      <td>42</td>\n",
              "      <td>72</td>\n",
              "      <td>83</td>\n",
              "      <td>167</td>\n",
              "      <td>142</td>\n",
              "      <td>152</td>\n",
              "      <td>108</td>\n",
              "      <td>59</td>\n",
              "      <td>61</td>\n",
              "      <td>75</td>\n",
              "      <td>54</td>\n",
              "      <td>33</td>\n",
              "      <td>0</td>\n",
              "      <td>0</td>\n",
              "    </tr>\n",
              "    <tr>\n",
              "      <th>Fighting</th>\n",
              "      <td>1</td>\n",
              "      <td>0</td>\n",
              "      <td>0</td>\n",
              "      <td>0</td>\n",
              "      <td>0</td>\n",
              "      <td>1</td>\n",
              "      <td>0</td>\n",
              "      <td>2</td>\n",
              "      <td>0</td>\n",
              "      <td>0</td>\n",
              "      <td>0</td>\n",
              "      <td>1</td>\n",
              "      <td>7</td>\n",
              "      <td>11</td>\n",
              "      <td>22</td>\n",
              "      <td>29</td>\n",
              "      <td>30</td>\n",
              "      <td>28</td>\n",
              "      <td>41</td>\n",
              "      <td>24</td>\n",
              "      <td>29</td>\n",
              "      <td>18</td>\n",
              "      <td>54</td>\n",
              "      <td>44</td>\n",
              "      <td>39</td>\n",
              "      <td>43</td>\n",
              "      <td>55</td>\n",
              "      <td>50</td>\n",
              "      <td>57</td>\n",
              "      <td>53</td>\n",
              "      <td>40</td>\n",
              "      <td>50</td>\n",
              "      <td>29</td>\n",
              "      <td>20</td>\n",
              "      <td>23</td>\n",
              "      <td>21</td>\n",
              "      <td>14</td>\n",
              "      <td>0</td>\n",
              "      <td>0</td>\n",
              "    </tr>\n",
              "    <tr>\n",
              "      <th>Puzzle</th>\n",
              "      <td>0</td>\n",
              "      <td>2</td>\n",
              "      <td>3</td>\n",
              "      <td>1</td>\n",
              "      <td>3</td>\n",
              "      <td>4</td>\n",
              "      <td>0</td>\n",
              "      <td>0</td>\n",
              "      <td>1</td>\n",
              "      <td>5</td>\n",
              "      <td>2</td>\n",
              "      <td>4</td>\n",
              "      <td>5</td>\n",
              "      <td>3</td>\n",
              "      <td>3</td>\n",
              "      <td>12</td>\n",
              "      <td>9</td>\n",
              "      <td>14</td>\n",
              "      <td>13</td>\n",
              "      <td>6</td>\n",
              "      <td>12</td>\n",
              "      <td>15</td>\n",
              "      <td>20</td>\n",
              "      <td>7</td>\n",
              "      <td>25</td>\n",
              "      <td>32</td>\n",
              "      <td>42</td>\n",
              "      <td>65</td>\n",
              "      <td>64</td>\n",
              "      <td>79</td>\n",
              "      <td>45</td>\n",
              "      <td>43</td>\n",
              "      <td>11</td>\n",
              "      <td>3</td>\n",
              "      <td>7</td>\n",
              "      <td>6</td>\n",
              "      <td>0</td>\n",
              "      <td>0</td>\n",
              "      <td>0</td>\n",
              "    </tr>\n",
              "    <tr>\n",
              "      <th>Racing</th>\n",
              "      <td>0</td>\n",
              "      <td>1</td>\n",
              "      <td>2</td>\n",
              "      <td>0</td>\n",
              "      <td>3</td>\n",
              "      <td>0</td>\n",
              "      <td>1</td>\n",
              "      <td>0</td>\n",
              "      <td>1</td>\n",
              "      <td>0</td>\n",
              "      <td>2</td>\n",
              "      <td>1</td>\n",
              "      <td>2</td>\n",
              "      <td>2</td>\n",
              "      <td>8</td>\n",
              "      <td>12</td>\n",
              "      <td>22</td>\n",
              "      <td>36</td>\n",
              "      <td>49</td>\n",
              "      <td>49</td>\n",
              "      <td>43</td>\n",
              "      <td>71</td>\n",
              "      <td>103</td>\n",
              "      <td>109</td>\n",
              "      <td>71</td>\n",
              "      <td>77</td>\n",
              "      <td>75</td>\n",
              "      <td>85</td>\n",
              "      <td>82</td>\n",
              "      <td>83</td>\n",
              "      <td>57</td>\n",
              "      <td>64</td>\n",
              "      <td>30</td>\n",
              "      <td>16</td>\n",
              "      <td>27</td>\n",
              "      <td>19</td>\n",
              "      <td>20</td>\n",
              "      <td>0</td>\n",
              "      <td>0</td>\n",
              "    </tr>\n",
              "    <tr>\n",
              "      <th>Role-Playing</th>\n",
              "      <td>0</td>\n",
              "      <td>0</td>\n",
              "      <td>0</td>\n",
              "      <td>0</td>\n",
              "      <td>0</td>\n",
              "      <td>0</td>\n",
              "      <td>1</td>\n",
              "      <td>3</td>\n",
              "      <td>3</td>\n",
              "      <td>2</td>\n",
              "      <td>2</td>\n",
              "      <td>5</td>\n",
              "      <td>5</td>\n",
              "      <td>9</td>\n",
              "      <td>17</td>\n",
              "      <td>24</td>\n",
              "      <td>28</td>\n",
              "      <td>23</td>\n",
              "      <td>26</td>\n",
              "      <td>33</td>\n",
              "      <td>29</td>\n",
              "      <td>41</td>\n",
              "      <td>54</td>\n",
              "      <td>48</td>\n",
              "      <td>60</td>\n",
              "      <td>71</td>\n",
              "      <td>108</td>\n",
              "      <td>103</td>\n",
              "      <td>112</td>\n",
              "      <td>103</td>\n",
              "      <td>103</td>\n",
              "      <td>95</td>\n",
              "      <td>78</td>\n",
              "      <td>70</td>\n",
              "      <td>90</td>\n",
              "      <td>78</td>\n",
              "      <td>40</td>\n",
              "      <td>2</td>\n",
              "      <td>0</td>\n",
              "    </tr>\n",
              "    <tr>\n",
              "      <th>Shooter</th>\n",
              "      <td>2</td>\n",
              "      <td>10</td>\n",
              "      <td>5</td>\n",
              "      <td>1</td>\n",
              "      <td>3</td>\n",
              "      <td>1</td>\n",
              "      <td>4</td>\n",
              "      <td>2</td>\n",
              "      <td>1</td>\n",
              "      <td>1</td>\n",
              "      <td>0</td>\n",
              "      <td>3</td>\n",
              "      <td>3</td>\n",
              "      <td>2</td>\n",
              "      <td>11</td>\n",
              "      <td>29</td>\n",
              "      <td>23</td>\n",
              "      <td>27</td>\n",
              "      <td>23</td>\n",
              "      <td>16</td>\n",
              "      <td>20</td>\n",
              "      <td>36</td>\n",
              "      <td>78</td>\n",
              "      <td>73</td>\n",
              "      <td>88</td>\n",
              "      <td>96</td>\n",
              "      <td>69</td>\n",
              "      <td>84</td>\n",
              "      <td>83</td>\n",
              "      <td>91</td>\n",
              "      <td>81</td>\n",
              "      <td>94</td>\n",
              "      <td>48</td>\n",
              "      <td>59</td>\n",
              "      <td>47</td>\n",
              "      <td>34</td>\n",
              "      <td>32</td>\n",
              "      <td>0</td>\n",
              "      <td>0</td>\n",
              "    </tr>\n",
              "    <tr>\n",
              "      <th>Siulation</th>\n",
              "      <td>0</td>\n",
              "      <td>1</td>\n",
              "      <td>0</td>\n",
              "      <td>0</td>\n",
              "      <td>0</td>\n",
              "      <td>1</td>\n",
              "      <td>0</td>\n",
              "      <td>0</td>\n",
              "      <td>1</td>\n",
              "      <td>0</td>\n",
              "      <td>1</td>\n",
              "      <td>2</td>\n",
              "      <td>1</td>\n",
              "      <td>1</td>\n",
              "      <td>7</td>\n",
              "      <td>14</td>\n",
              "      <td>13</td>\n",
              "      <td>19</td>\n",
              "      <td>8</td>\n",
              "      <td>20</td>\n",
              "      <td>15</td>\n",
              "      <td>28</td>\n",
              "      <td>19</td>\n",
              "      <td>35</td>\n",
              "      <td>27</td>\n",
              "      <td>38</td>\n",
              "      <td>58</td>\n",
              "      <td>91</td>\n",
              "      <td>118</td>\n",
              "      <td>123</td>\n",
              "      <td>79</td>\n",
              "      <td>55</td>\n",
              "      <td>18</td>\n",
              "      <td>18</td>\n",
              "      <td>11</td>\n",
              "      <td>15</td>\n",
              "      <td>9</td>\n",
              "      <td>0</td>\n",
              "      <td>1</td>\n",
              "    </tr>\n",
              "    <tr>\n",
              "      <th>Sports</th>\n",
              "      <td>1</td>\n",
              "      <td>4</td>\n",
              "      <td>2</td>\n",
              "      <td>1</td>\n",
              "      <td>2</td>\n",
              "      <td>1</td>\n",
              "      <td>3</td>\n",
              "      <td>4</td>\n",
              "      <td>2</td>\n",
              "      <td>3</td>\n",
              "      <td>3</td>\n",
              "      <td>7</td>\n",
              "      <td>4</td>\n",
              "      <td>9</td>\n",
              "      <td>22</td>\n",
              "      <td>29</td>\n",
              "      <td>52</td>\n",
              "      <td>46</td>\n",
              "      <td>70</td>\n",
              "      <td>62</td>\n",
              "      <td>81</td>\n",
              "      <td>96</td>\n",
              "      <td>188</td>\n",
              "      <td>125</td>\n",
              "      <td>106</td>\n",
              "      <td>122</td>\n",
              "      <td>138</td>\n",
              "      <td>168</td>\n",
              "      <td>200</td>\n",
              "      <td>184</td>\n",
              "      <td>186</td>\n",
              "      <td>122</td>\n",
              "      <td>54</td>\n",
              "      <td>53</td>\n",
              "      <td>55</td>\n",
              "      <td>62</td>\n",
              "      <td>38</td>\n",
              "      <td>0</td>\n",
              "      <td>0</td>\n",
              "    </tr>\n",
              "    <tr>\n",
              "      <th>Strategy</th>\n",
              "      <td>0</td>\n",
              "      <td>0</td>\n",
              "      <td>0</td>\n",
              "      <td>0</td>\n",
              "      <td>0</td>\n",
              "      <td>0</td>\n",
              "      <td>0</td>\n",
              "      <td>0</td>\n",
              "      <td>0</td>\n",
              "      <td>0</td>\n",
              "      <td>0</td>\n",
              "      <td>4</td>\n",
              "      <td>3</td>\n",
              "      <td>2</td>\n",
              "      <td>6</td>\n",
              "      <td>14</td>\n",
              "      <td>12</td>\n",
              "      <td>21</td>\n",
              "      <td>35</td>\n",
              "      <td>26</td>\n",
              "      <td>16</td>\n",
              "      <td>20</td>\n",
              "      <td>22</td>\n",
              "      <td>37</td>\n",
              "      <td>32</td>\n",
              "      <td>29</td>\n",
              "      <td>42</td>\n",
              "      <td>66</td>\n",
              "      <td>50</td>\n",
              "      <td>65</td>\n",
              "      <td>53</td>\n",
              "      <td>45</td>\n",
              "      <td>15</td>\n",
              "      <td>19</td>\n",
              "      <td>8</td>\n",
              "      <td>17</td>\n",
              "      <td>10</td>\n",
              "      <td>0</td>\n",
              "      <td>0</td>\n",
              "    </tr>\n",
              "    <tr>\n",
              "      <th>isc</th>\n",
              "      <td>4</td>\n",
              "      <td>0</td>\n",
              "      <td>1</td>\n",
              "      <td>1</td>\n",
              "      <td>1</td>\n",
              "      <td>0</td>\n",
              "      <td>0</td>\n",
              "      <td>0</td>\n",
              "      <td>0</td>\n",
              "      <td>1</td>\n",
              "      <td>0</td>\n",
              "      <td>1</td>\n",
              "      <td>2</td>\n",
              "      <td>3</td>\n",
              "      <td>6</td>\n",
              "      <td>22</td>\n",
              "      <td>23</td>\n",
              "      <td>12</td>\n",
              "      <td>21</td>\n",
              "      <td>25</td>\n",
              "      <td>20</td>\n",
              "      <td>26</td>\n",
              "      <td>45</td>\n",
              "      <td>53</td>\n",
              "      <td>67</td>\n",
              "      <td>110</td>\n",
              "      <td>109</td>\n",
              "      <td>150</td>\n",
              "      <td>210</td>\n",
              "      <td>208</td>\n",
              "      <td>200</td>\n",
              "      <td>183</td>\n",
              "      <td>38</td>\n",
              "      <td>42</td>\n",
              "      <td>41</td>\n",
              "      <td>39</td>\n",
              "      <td>18</td>\n",
              "      <td>0</td>\n",
              "      <td>0</td>\n",
              "    </tr>\n",
              "    <tr>\n",
              "      <th>platform</th>\n",
              "      <td>0</td>\n",
              "      <td>3</td>\n",
              "      <td>5</td>\n",
              "      <td>5</td>\n",
              "      <td>1</td>\n",
              "      <td>4</td>\n",
              "      <td>6</td>\n",
              "      <td>2</td>\n",
              "      <td>4</td>\n",
              "      <td>3</td>\n",
              "      <td>3</td>\n",
              "      <td>6</td>\n",
              "      <td>6</td>\n",
              "      <td>11</td>\n",
              "      <td>11</td>\n",
              "      <td>13</td>\n",
              "      <td>14</td>\n",
              "      <td>18</td>\n",
              "      <td>26</td>\n",
              "      <td>18</td>\n",
              "      <td>24</td>\n",
              "      <td>43</td>\n",
              "      <td>78</td>\n",
              "      <td>87</td>\n",
              "      <td>66</td>\n",
              "      <td>83</td>\n",
              "      <td>55</td>\n",
              "      <td>43</td>\n",
              "      <td>64</td>\n",
              "      <td>28</td>\n",
              "      <td>33</td>\n",
              "      <td>37</td>\n",
              "      <td>11</td>\n",
              "      <td>37</td>\n",
              "      <td>10</td>\n",
              "      <td>15</td>\n",
              "      <td>10</td>\n",
              "      <td>0</td>\n",
              "      <td>0</td>\n",
              "    </tr>\n",
              "  </tbody>\n",
              "</table>\n",
              "</div>"
            ],
            "text/plain": [
              "Year          1980  1981  1982  1983  1984  ...  2014  2015  2016  2017  2020\n",
              "Genre                                       ...                              \n",
              "Action           1    25    18     7     1  ...   186   254   118     1     0\n",
              "Adventure        0     0     0     1     0  ...    75    54    33     0     0\n",
              "Fighting         1     0     0     0     0  ...    23    21    14     0     0\n",
              "Puzzle           0     2     3     1     3  ...     7     6     0     0     0\n",
              "Racing           0     1     2     0     3  ...    27    19    20     0     0\n",
              "Role-Playing     0     0     0     0     0  ...    90    78    40     2     0\n",
              "Shooter          2    10     5     1     3  ...    47    34    32     0     0\n",
              "Siulation        0     1     0     0     0  ...    11    15     9     0     1\n",
              "Sports           1     4     2     1     2  ...    55    62    38     0     0\n",
              "Strategy         0     0     0     0     0  ...     8    17    10     0     0\n",
              "isc              4     0     1     1     1  ...    41    39    18     0     0\n",
              "platform         0     3     5     5     1  ...    10    15    10     0     0\n",
              "\n",
              "[12 rows x 39 columns]"
            ]
          },
          "metadata": {
            "tags": []
          },
          "execution_count": 26
        }
      ]
    },
    {
      "cell_type": "code",
      "metadata": {
        "colab": {
          "base_uri": "https://localhost:8080/"
        },
        "id": "C_jFTlYH399Q",
        "outputId": "cae4fc43-877d-4554-a988-76e8ecdb687f"
      },
      "source": [
        "obss = pd.crosstab(df['Genre'], df['Year'])\n",
        "print(chi2_contingency(obss, correction = True))"
      ],
      "execution_count": 27,
      "outputs": [
        {
          "output_type": "stream",
          "text": [
            "(2754.596798473878, 0.0, 418, array([[1.79900546e+00, 9.19491682e+00, 7.19602186e+00, 3.39812143e+00,\n",
            "        2.79845294e+00, 2.79845294e+00, 4.19767942e+00, 3.19823194e+00,\n",
            "        2.99834244e+00, 3.39812143e+00, 3.19823194e+00, 8.19546934e+00,\n",
            "        8.59524833e+00, 1.19933698e+01, 2.41866290e+01, 4.37757996e+01,\n",
            "        5.25709374e+01, 5.77680643e+01, 7.57581190e+01, 6.75626496e+01,\n",
            "        6.97614341e+01, 9.63467371e+01, 1.65708392e+02, 1.54914359e+02,\n",
            "        1.48717785e+02, 1.87096568e+02, 2.01488612e+02, 2.39867395e+02,\n",
            "        2.85442200e+02, 2.86041869e+02, 2.51061207e+02, 2.27074467e+02,\n",
            "        1.30927620e+02, 1.09139665e+02, 1.15935908e+02, 1.22732151e+02,\n",
            "        6.83622076e+01, 5.99668488e-01, 1.99889496e-01],\n",
            "       [7.05015655e-01, 3.60341335e+00, 2.82006262e+00, 1.33169624e+00,\n",
            "        1.09669102e+00, 1.09669102e+00, 1.64503653e+00, 1.25336116e+00,\n",
            "        1.17502609e+00, 1.33169624e+00, 1.25336116e+00, 3.21173798e+00,\n",
            "        3.36840813e+00, 4.70010436e+00, 9.47854380e+00, 1.71553809e+01,\n",
            "        2.06021241e+01, 2.26388360e+01, 2.96889926e+01, 2.64772546e+01,\n",
            "        2.73389404e+01, 3.77575051e+01, 6.49397753e+01, 6.07096814e+01,\n",
            "        5.82812941e+01, 7.33216281e+01, 7.89617533e+01, 9.40020873e+01,\n",
            "        1.11862484e+02, 1.12097489e+02, 9.83888514e+01, 8.89886426e+01,\n",
            "        5.13094727e+01, 4.27709497e+01, 4.54343422e+01, 4.80977347e+01,\n",
            "        2.67905949e+01, 2.35005218e-01, 7.83350727e-02],\n",
            "       [4.61906808e-01, 2.36085702e+00, 1.84762723e+00, 8.72490638e-01,\n",
            "        7.18521702e-01, 7.18521702e-01, 1.07778255e+00, 8.21167659e-01,\n",
            "        7.69844680e-01, 8.72490638e-01, 8.21167659e-01, 2.10424213e+00,\n",
            "        2.20688808e+00, 3.07937872e+00, 6.21008042e+00, 1.12397323e+01,\n",
            "        1.34979434e+01, 1.48323408e+01, 1.94514089e+01, 1.73471668e+01,\n",
            "        1.79117196e+01, 2.47376757e+01, 4.25467493e+01, 3.97753085e+01,\n",
            "        3.81842962e+01, 4.80383081e+01, 5.17335625e+01, 6.15875744e+01,\n",
            "        7.32892136e+01, 7.34431825e+01, 6.44616612e+01, 5.83029038e+01,\n",
            "        3.36165510e+01, 2.80223464e+01, 2.97673276e+01, 3.15123089e+01,\n",
            "        1.75524587e+01, 1.53968936e-01, 5.13229787e-02],\n",
            "       [3.12726380e-01, 1.59837927e+00, 1.25090552e+00, 5.90705384e-01,\n",
            "        4.86463257e-01, 4.86463257e-01, 7.29694886e-01, 5.55958008e-01,\n",
            "        5.21210633e-01, 5.90705384e-01, 5.55958008e-01, 1.42464240e+00,\n",
            "        1.49413715e+00, 2.08484253e+00, 4.20443244e+00, 7.60967524e+00,\n",
            "        9.13855976e+00, 1.00419915e+01, 1.31692553e+01, 1.17446129e+01,\n",
            "        1.21268341e+01, 1.67482350e+01, 2.88055743e+01, 2.69292160e+01,\n",
            "        2.58520474e+01, 3.25235435e+01, 3.50253545e+01, 4.16968506e+01,\n",
            "        4.96192523e+01, 4.97234944e+01, 4.36427037e+01, 3.94730186e+01,\n",
            "        2.27595310e+01, 1.89720670e+01, 2.01534778e+01, 2.13348886e+01,\n",
            "        1.18836024e+01, 1.04242127e-01, 3.47473755e-02],\n",
            "       [6.75732089e-01, 3.45374179e+00, 2.70292836e+00, 1.27638284e+00,\n",
            "        1.05113881e+00, 1.05113881e+00, 1.57670821e+00, 1.20130149e+00,\n",
            "        1.12622015e+00, 1.27638284e+00, 1.20130149e+00, 3.07833507e+00,\n",
            "        3.22849776e+00, 4.50488059e+00, 9.08484253e+00, 1.64428142e+01,\n",
            "        1.97463933e+01, 2.16985082e+01, 2.84558291e+01, 2.53774940e+01,\n",
            "        2.62033888e+01, 3.61892074e+01, 6.22424335e+01, 5.81880410e+01,\n",
            "        5.58605194e+01, 7.02761373e+01, 7.56819940e+01, 9.00976119e+01,\n",
            "        1.07216158e+02, 1.07441402e+02, 9.43021671e+01, 8.52924059e+01,\n",
            "        4.91782798e+01, 4.09944134e+01, 4.35471791e+01, 4.60999447e+01,\n",
            "        2.56778194e+01, 2.25244030e-01, 7.50813432e-02],\n",
            "       [8.09994475e-01, 4.13997176e+00, 3.23997790e+00, 1.52998956e+00,\n",
            "        1.25999141e+00, 1.25999141e+00, 1.88998711e+00, 1.43999018e+00,\n",
            "        1.34999079e+00, 1.52998956e+00, 1.43999018e+00, 3.68997483e+00,\n",
            "        3.86997360e+00, 5.39996317e+00, 1.08899257e+01, 1.97098656e+01,\n",
            "        2.36698385e+01, 2.60098226e+01, 3.41097673e+01, 3.04197925e+01,\n",
            "        3.14097857e+01, 4.33797041e+01, 7.46094911e+01, 6.97495242e+01,\n",
            "        6.69595433e+01, 8.42394254e+01, 9.07193812e+01, 1.07999263e+02,\n",
            "        1.28519123e+02, 1.28789121e+02, 1.13039229e+02, 1.02239303e+02,\n",
            "        5.89495979e+01, 4.91396648e+01, 5.21996439e+01, 5.52596231e+01,\n",
            "        3.07797900e+01, 2.69998158e-01, 8.99993861e-02],\n",
            "       [7.07225735e-01, 3.61470931e+00, 2.82890294e+00, 1.33587083e+00,\n",
            "        1.10012892e+00, 1.10012892e+00, 1.65019338e+00, 1.25729020e+00,\n",
            "        1.17870956e+00, 1.33587083e+00, 1.25729020e+00, 3.22180613e+00,\n",
            "        3.37896740e+00, 4.71483823e+00, 9.50825711e+00, 1.72091596e+01,\n",
            "        2.06667076e+01, 2.27098042e+01, 2.97820615e+01, 2.65602554e+01,\n",
            "        2.74246424e+01, 3.78758671e+01, 6.51433483e+01, 6.08999939e+01,\n",
            "        5.84639941e+01, 7.35514765e+01, 7.92092823e+01, 9.42967647e+01,\n",
            "        1.12213150e+02, 1.12448892e+02, 9.86972804e+01, 8.92676039e+01,\n",
            "        5.14703174e+01, 4.29050279e+01, 4.55767696e+01, 4.82485113e+01,\n",
            "        2.68745779e+01, 2.35741912e-01, 7.85806372e-02],\n",
            "       [4.67984529e-01, 2.39192093e+00, 1.87193812e+00, 8.83970778e-01,\n",
            "        7.27975935e-01, 7.27975935e-01, 1.09196390e+00, 8.31972497e-01,\n",
            "        7.79974216e-01, 8.83970778e-01, 8.31972497e-01, 2.13192952e+00,\n",
            "        2.23592609e+00, 3.11989686e+00, 6.29179201e+00, 1.13876235e+01,\n",
            "        1.36755479e+01, 1.50275032e+01, 1.97073485e+01, 1.75754190e+01,\n",
            "        1.81474001e+01, 2.50631715e+01, 4.31065750e+01, 4.02986678e+01,\n",
            "        3.86867211e+01, 4.86703911e+01, 5.24142673e+01, 6.23979373e+01,\n",
            "        7.42535453e+01, 7.44095402e+01, 6.53098410e+01, 5.90700473e+01,\n",
            "        3.40588741e+01, 2.83910615e+01, 3.01590030e+01, 3.19269446e+01,\n",
            "        1.77834121e+01, 1.55994843e-01, 5.19982810e-02],\n",
            "       [1.27355884e+00, 6.50930076e+00, 5.09423537e+00, 2.40561115e+00,\n",
            "        1.98109153e+00, 1.98109153e+00, 2.97163730e+00, 2.26410461e+00,\n",
            "        2.12259807e+00, 2.40561115e+00, 2.26410461e+00, 5.80176806e+00,\n",
            "        6.08478114e+00, 8.49039229e+00, 1.71222911e+01, 3.09899319e+01,\n",
            "        3.72162195e+01, 4.08953895e+01, 5.36309780e+01, 4.78292099e+01,\n",
            "        4.93857818e+01, 6.82061514e+01, 1.17308920e+02, 1.09667567e+02,\n",
            "        1.05280864e+02, 1.32450120e+02, 1.42638590e+02, 1.69807846e+02,\n",
            "        2.02071336e+02, 2.02495856e+02, 1.77732212e+02, 1.60751427e+02,\n",
            "        9.26867825e+01, 7.72625698e+01, 8.20737921e+01, 8.68850144e+01,\n",
            "        4.83952360e+01, 4.24519614e-01, 1.41506538e-01],\n",
            "       [3.69635951e-01, 1.88925041e+00, 1.47854380e+00, 6.98201240e-01,\n",
            "        5.74989257e-01, 5.74989257e-01, 8.62483885e-01, 6.57130579e-01,\n",
            "        6.16059918e-01, 6.98201240e-01, 6.57130579e-01, 1.68389711e+00,\n",
            "        1.76603843e+00, 2.46423967e+00, 4.96955000e+00, 8.99447480e+00,\n",
            "        1.08015839e+01, 1.18694211e+01, 1.55657806e+01, 1.38818835e+01,\n",
            "        1.43336608e+01, 1.97960587e+01, 3.40475781e+01, 3.18297624e+01,\n",
            "        3.05565719e+01, 3.84421389e+01, 4.13992265e+01, 4.92847934e+01,\n",
            "        5.86489042e+01, 5.87721162e+01, 5.15847504e+01, 4.66562711e+01,\n",
            "        2.69012831e+01, 2.24245810e+01, 2.38209835e+01, 2.52173860e+01,\n",
            "        1.40461661e+01, 1.23211984e-01, 4.10706612e-02],\n",
            "       [9.29338818e-01, 4.74995396e+00, 3.71735527e+00, 1.75541777e+00,\n",
            "        1.44563816e+00, 1.44563816e+00, 2.16845724e+00, 1.65215790e+00,\n",
            "        1.54889803e+00, 1.75541777e+00, 1.65215790e+00, 4.23365461e+00,\n",
            "        4.44017435e+00, 6.19559212e+00, 1.24944441e+01, 2.26139112e+01,\n",
            "        2.71573454e+01, 2.98421020e+01, 3.91354902e+01, 3.49018356e+01,\n",
            "        3.60376941e+01, 4.97712567e+01, 8.56024311e+01, 8.00263982e+01,\n",
            "        7.68253423e+01, 9.66512370e+01, 1.04085948e+02, 1.23911842e+02,\n",
            "        1.47455092e+02, 1.47764872e+02, 1.29694395e+02, 1.17303211e+02,\n",
            "        6.76352139e+01, 5.63798883e+01, 5.98907238e+01, 6.34015593e+01,\n",
            "        3.53148751e+01, 3.09779606e-01, 1.03259869e-01],\n",
            "       [4.87875253e-01, 2.49358463e+00, 1.95150101e+00, 9.21542145e-01,\n",
            "        7.58917061e-01, 7.58917061e-01, 1.13837559e+00, 8.67333784e-01,\n",
            "        8.13125422e-01, 9.21542145e-01, 8.67333784e-01, 2.22254282e+00,\n",
            "        2.33095954e+00, 3.25250169e+00, 6.55921174e+00, 1.18716312e+01,\n",
            "        1.42567991e+01, 1.56662165e+01, 2.05449690e+01, 1.83224262e+01,\n",
            "        1.89187182e+01, 2.61284302e+01, 4.49387317e+01, 4.20114801e+01,\n",
            "        4.03310209e+01, 5.07390263e+01, 5.46420284e+01, 6.50500338e+01,\n",
            "        7.74095402e+01, 7.75721653e+01, 6.80857020e+01, 6.15806986e+01,\n",
            "        3.55064768e+01, 2.95977654e+01, 3.14408497e+01, 3.32839339e+01,\n",
            "        1.85392596e+01, 1.62625084e-01, 5.42083615e-02]]))\n"
          ],
          "name": "stdout"
        }
      ]
    },
    {
      "cell_type": "code",
      "metadata": {
        "colab": {
          "base_uri": "https://localhost:8080/",
          "height": 497
        },
        "id": "6g_dQ6suaTJr",
        "outputId": "cfdc2c53-77d7-4568-da89-143fba9cf550"
      },
      "source": [
        "plt.rcParams['figure.figsize'] = [12, 8]\n",
        "sns.lineplot(data = obss.T,  dashes = False, alpha = 0.5);"
      ],
      "execution_count": 30,
      "outputs": [
        {
          "output_type": "display_data",
          "data": {
            "image/png": "[encoded data removed]",
            "text/plain": [
              "<Figure size 864x576 with 1 Axes>"
            ]
          },
          "metadata": {
            "tags": [],
            "needs_background": "light"
          }
        }
      ]
    },
    {
      "cell_type": "code",
      "metadata": {
        "id": "Ema2lTxQ5KnH"
      },
      "source": [
        "## 카이제곱 검정의 p-value 가 0 에 수렴한다.\n",
        "## 따라서, 귀무가설을 기각 할 수 있으므로\n",
        "## 대립 가설인 \"연도별로 트렌드는 있을 것이다.\" 를 채택한다."
      ],
      "execution_count": null,
      "outputs": []
    },
    {
      "cell_type": "code",
      "metadata": {
        "id": "4J5RMJomal1n"
      },
      "source": [
        "## global sales"
      ],
      "execution_count": null,
      "outputs": []
    },
    {
      "cell_type": "code",
      "metadata": {
        "colab": {
          "base_uri": "https://localhost:8080/"
        },
        "id": "gF_XUJkXZKBq",
        "outputId": "474c10c7-f8b9-409d-aafd-2b36adf12cb9"
      },
      "source": [
        "df['global']=df['NA_Sales']+df['JP_Sales']+df['EU_Sales']+df['Other_Sales']"
      ],
      "execution_count": null,
      "outputs": [
        {
          "output_type": "stream",
          "text": [
            "/usr/local/lib/python3.7/dist-packages/ipykernel_launcher.py:1: SettingWithCopyWarning: \n",
            "A value is trying to be set on a copy of a slice from a DataFrame.\n",
            "Try using .loc[row_indexer,col_indexer] = value instead\n",
            "\n",
            "See the caveats in the documentation: https://pandas.pydata.org/pandas-docs/stable/user_guide/indexing.html#returning-a-view-versus-a-copy\n",
            "  \"\"\"Entry point for launching an IPython kernel.\n"
          ],
          "name": "stderr"
        }
      ]
    },
    {
      "cell_type": "code",
      "metadata": {
        "id": "Rj9NuJrjymsh"
      },
      "source": [
        "## 모든 sales 들의 합은 세계적 출고량이다."
      ],
      "execution_count": null,
      "outputs": []
    },
    {
      "cell_type": "code",
      "metadata": {
        "colab": {
          "base_uri": "https://localhost:8080/",
          "height": 419
        },
        "id": "xcwIxtGSZZgx",
        "outputId": "3774dd57-3be6-4cfe-e98a-0d3a99b3219e"
      },
      "source": [
        "df[['global']]"
      ],
      "execution_count": null,
      "outputs": [
        {
          "output_type": "execute_result",
          "data": {
            "text/html": [
              "<div>\n",
              "<style scoped>\n",
              "    .dataframe tbody tr th:only-of-type {\n",
              "        vertical-align: middle;\n",
              "    }\n",
              "\n",
              "    .dataframe tbody tr th {\n",
              "        vertical-align: top;\n",
              "    }\n",
              "\n",
              "    .dataframe thead th {\n",
              "        text-align: right;\n",
              "    }\n",
              "</style>\n",
              "<table border=\"1\" class=\"dataframe\">\n",
              "  <thead>\n",
              "    <tr style=\"text-align: right;\">\n",
              "      <th></th>\n",
              "      <th>global</th>\n",
              "    </tr>\n",
              "  </thead>\n",
              "  <tbody>\n",
              "    <tr>\n",
              "      <th>0</th>\n",
              "      <td>0.04</td>\n",
              "    </tr>\n",
              "    <tr>\n",
              "      <th>1</th>\n",
              "      <td>0.18</td>\n",
              "    </tr>\n",
              "    <tr>\n",
              "      <th>2</th>\n",
              "      <td>0.02</td>\n",
              "    </tr>\n",
              "    <tr>\n",
              "      <th>3</th>\n",
              "      <td>0.04</td>\n",
              "    </tr>\n",
              "    <tr>\n",
              "      <th>4</th>\n",
              "      <td>0.25</td>\n",
              "    </tr>\n",
              "    <tr>\n",
              "      <th>...</th>\n",
              "      <td>...</td>\n",
              "    </tr>\n",
              "    <tr>\n",
              "      <th>16593</th>\n",
              "      <td>0.20</td>\n",
              "    </tr>\n",
              "    <tr>\n",
              "      <th>16594</th>\n",
              "      <td>0.01</td>\n",
              "    </tr>\n",
              "    <tr>\n",
              "      <th>16595</th>\n",
              "      <td>0.79</td>\n",
              "    </tr>\n",
              "    <tr>\n",
              "      <th>16596</th>\n",
              "      <td>0.38</td>\n",
              "    </tr>\n",
              "    <tr>\n",
              "      <th>16597</th>\n",
              "      <td>0.17</td>\n",
              "    </tr>\n",
              "  </tbody>\n",
              "</table>\n",
              "<p>16289 rows × 1 columns</p>\n",
              "</div>"
            ],
            "text/plain": [
              "       global\n",
              "0        0.04\n",
              "1        0.18\n",
              "2        0.02\n",
              "3        0.04\n",
              "4        0.25\n",
              "...       ...\n",
              "16593    0.20\n",
              "16594    0.01\n",
              "16595    0.79\n",
              "16596    0.38\n",
              "16597    0.17\n",
              "\n",
              "[16289 rows x 1 columns]"
            ]
          },
          "metadata": {
            "tags": []
          },
          "execution_count": 24
        }
      ]
    },
    {
      "cell_type": "code",
      "metadata": {
        "id": "oFtNWrYNyth6"
      },
      "source": [
        "## 이름과 출고량에 대한 표를 만든다."
      ],
      "execution_count": null,
      "outputs": []
    },
    {
      "cell_type": "code",
      "metadata": {
        "colab": {
          "base_uri": "https://localhost:8080/",
          "height": 419
        },
        "id": "JOL1tYX8Z2M1",
        "outputId": "e56bab80-ec74-42fa-d9eb-436a422c6fe3"
      },
      "source": [
        "df2 = df[['Name','global']]\n",
        "df2"
      ],
      "execution_count": null,
      "outputs": [
        {
          "output_type": "execute_result",
          "data": {
            "text/html": [
              "<div>\n",
              "<style scoped>\n",
              "    .dataframe tbody tr th:only-of-type {\n",
              "        vertical-align: middle;\n",
              "    }\n",
              "\n",
              "    .dataframe tbody tr th {\n",
              "        vertical-align: top;\n",
              "    }\n",
              "\n",
              "    .dataframe thead th {\n",
              "        text-align: right;\n",
              "    }\n",
              "</style>\n",
              "<table border=\"1\" class=\"dataframe\">\n",
              "  <thead>\n",
              "    <tr style=\"text-align: right;\">\n",
              "      <th></th>\n",
              "      <th>Name</th>\n",
              "      <th>global</th>\n",
              "    </tr>\n",
              "  </thead>\n",
              "  <tbody>\n",
              "    <tr>\n",
              "      <th>0</th>\n",
              "      <td>Candace Kane's Candy Factory</td>\n",
              "      <td>0.04</td>\n",
              "    </tr>\n",
              "    <tr>\n",
              "      <th>1</th>\n",
              "      <td>The Munchables</td>\n",
              "      <td>0.18</td>\n",
              "    </tr>\n",
              "    <tr>\n",
              "      <th>2</th>\n",
              "      <td>Otome wa Oanesama Boku ni Koi Shiteru Portable</td>\n",
              "      <td>0.02</td>\n",
              "    </tr>\n",
              "    <tr>\n",
              "      <th>3</th>\n",
              "      <td>Deal or No Deal: Special Edition</td>\n",
              "      <td>0.04</td>\n",
              "    </tr>\n",
              "    <tr>\n",
              "      <th>4</th>\n",
              "      <td>Ben 10 Ultimate Alien: Cosmic Destruction</td>\n",
              "      <td>0.25</td>\n",
              "    </tr>\n",
              "    <tr>\n",
              "      <th>...</th>\n",
              "      <td>...</td>\n",
              "      <td>...</td>\n",
              "    </tr>\n",
              "    <tr>\n",
              "      <th>16593</th>\n",
              "      <td>Ice Age 2: The Meltdown</td>\n",
              "      <td>0.20</td>\n",
              "    </tr>\n",
              "    <tr>\n",
              "      <th>16594</th>\n",
              "      <td>Rainbow Islands: Revolution</td>\n",
              "      <td>0.01</td>\n",
              "    </tr>\n",
              "    <tr>\n",
              "      <th>16595</th>\n",
              "      <td>NBA 2K16</td>\n",
              "      <td>0.79</td>\n",
              "    </tr>\n",
              "    <tr>\n",
              "      <th>16596</th>\n",
              "      <td>Toukiden: The Age of Demons</td>\n",
              "      <td>0.38</td>\n",
              "    </tr>\n",
              "    <tr>\n",
              "      <th>16597</th>\n",
              "      <td>The King of Fighters '95</td>\n",
              "      <td>0.17</td>\n",
              "    </tr>\n",
              "  </tbody>\n",
              "</table>\n",
              "<p>16289 rows × 2 columns</p>\n",
              "</div>"
            ],
            "text/plain": [
              "                                                 Name  global\n",
              "0                        Candace Kane's Candy Factory    0.04\n",
              "1                                      The Munchables    0.18\n",
              "2      Otome wa Oanesama Boku ni Koi Shiteru Portable    0.02\n",
              "3                    Deal or No Deal: Special Edition    0.04\n",
              "4           Ben 10 Ultimate Alien: Cosmic Destruction    0.25\n",
              "...                                               ...     ...\n",
              "16593                         Ice Age 2: The Meltdown    0.20\n",
              "16594                     Rainbow Islands: Revolution    0.01\n",
              "16595                                        NBA 2K16    0.79\n",
              "16596                     Toukiden: The Age of Demons    0.38\n",
              "16597                        The King of Fighters '95    0.17\n",
              "\n",
              "[16289 rows x 2 columns]"
            ]
          },
          "metadata": {
            "tags": []
          },
          "execution_count": 28
        }
      ]
    },
    {
      "cell_type": "code",
      "metadata": {
        "id": "1qaIahHDItba"
      },
      "source": [
        "df3 = df2.groupby('Name').mean()"
      ],
      "execution_count": null,
      "outputs": []
    },
    {
      "cell_type": "code",
      "metadata": {
        "id": "Tbi-jkUty28b"
      },
      "source": [
        "## 세계적으로 출고량이 많았던 TOP 10 게임들을 뽑는다."
      ],
      "execution_count": null,
      "outputs": []
    },
    {
      "cell_type": "code",
      "metadata": {
        "colab": {
          "base_uri": "https://localhost:8080/",
          "height": 359
        },
        "id": "o7FhqF4kvaDV",
        "outputId": "7156c958-dc85-4540-d727-cde681a3c69a"
      },
      "source": [
        "df2[['global', 'Name']].sort_values('global', ascending=False).nlargest(10, 'global')"
      ],
      "execution_count": null,
      "outputs": [
        {
          "output_type": "execute_result",
          "data": {
            "text/html": [
              "<div>\n",
              "<style scoped>\n",
              "    .dataframe tbody tr th:only-of-type {\n",
              "        vertical-align: middle;\n",
              "    }\n",
              "\n",
              "    .dataframe tbody tr th {\n",
              "        vertical-align: top;\n",
              "    }\n",
              "\n",
              "    .dataframe thead th {\n",
              "        text-align: right;\n",
              "    }\n",
              "</style>\n",
              "<table border=\"1\" class=\"dataframe\">\n",
              "  <thead>\n",
              "    <tr style=\"text-align: right;\">\n",
              "      <th></th>\n",
              "      <th>global</th>\n",
              "      <th>Name</th>\n",
              "    </tr>\n",
              "  </thead>\n",
              "  <tbody>\n",
              "    <tr>\n",
              "      <th>2908</th>\n",
              "      <td>82.74</td>\n",
              "      <td>Wii Sports</td>\n",
              "    </tr>\n",
              "    <tr>\n",
              "      <th>4199</th>\n",
              "      <td>40.24</td>\n",
              "      <td>Super Mario Bros.</td>\n",
              "    </tr>\n",
              "    <tr>\n",
              "      <th>12579</th>\n",
              "      <td>35.83</td>\n",
              "      <td>Mario Kart Wii</td>\n",
              "    </tr>\n",
              "    <tr>\n",
              "      <th>3352</th>\n",
              "      <td>33.00</td>\n",
              "      <td>Wii Sports Resort</td>\n",
              "    </tr>\n",
              "    <tr>\n",
              "      <th>7829</th>\n",
              "      <td>31.38</td>\n",
              "      <td>Pokemon Red/Pokemon Blue</td>\n",
              "    </tr>\n",
              "    <tr>\n",
              "      <th>1203</th>\n",
              "      <td>30.26</td>\n",
              "      <td>Tetris</td>\n",
              "    </tr>\n",
              "    <tr>\n",
              "      <th>6937</th>\n",
              "      <td>30.01</td>\n",
              "      <td>New Super Mario Bros.</td>\n",
              "    </tr>\n",
              "    <tr>\n",
              "      <th>3014</th>\n",
              "      <td>29.01</td>\n",
              "      <td>Wii Play</td>\n",
              "    </tr>\n",
              "    <tr>\n",
              "      <th>16531</th>\n",
              "      <td>28.61</td>\n",
              "      <td>New Super Mario Bros. Wii</td>\n",
              "    </tr>\n",
              "    <tr>\n",
              "      <th>10488</th>\n",
              "      <td>28.31</td>\n",
              "      <td>Duck Hunt</td>\n",
              "    </tr>\n",
              "  </tbody>\n",
              "</table>\n",
              "</div>"
            ],
            "text/plain": [
              "       global                       Name\n",
              "2908    82.74                 Wii Sports\n",
              "4199    40.24          Super Mario Bros.\n",
              "12579   35.83             Mario Kart Wii\n",
              "3352    33.00          Wii Sports Resort\n",
              "7829    31.38   Pokemon Red/Pokemon Blue\n",
              "1203    30.26                     Tetris\n",
              "6937    30.01      New Super Mario Bros.\n",
              "3014    29.01                   Wii Play\n",
              "16531   28.61  New Super Mario Bros. Wii\n",
              "10488   28.31                  Duck Hunt"
            ]
          },
          "metadata": {
            "tags": []
          },
          "execution_count": 32
        }
      ]
    },
    {
      "cell_type": "code",
      "metadata": {
        "id": "P-_XBp3by-Gs"
      },
      "source": [
        "## 백분위로 계산"
      ],
      "execution_count": null,
      "outputs": []
    },
    {
      "cell_type": "code",
      "metadata": {
        "id": "rwZ5mPYUv_xp"
      },
      "source": [
        "Wii_Sports = 82.74/369.39\n",
        "Super_Mario_Bros = 40.24/369.39\n",
        "Mario_Kart_Wii = 35.83/369.39\n",
        "Wii_Sports_Resort = 33/369.39\n",
        "Pokemon_Red_Pokemon_Blue = 31.38/369.39\n",
        "Tetris = 30.26/369.39\n",
        "New_Super_Mario_Bros = 30.01/369.39\n",
        "Wii_Play = 29.01/369.39\n",
        "New_Super_Mario_Bros_Wii = 28.61/369.39\n",
        "Duck_Hunt = 28.31/369.39"
      ],
      "execution_count": null,
      "outputs": []
    },
    {
      "cell_type": "code",
      "metadata": {
        "colab": {
          "base_uri": "https://localhost:8080/"
        },
        "id": "Erd41mUSv2GR",
        "outputId": "c13a2bb7-d6be-4ca7-c97d-1d3b228f02c2"
      },
      "source": [
        "82.74 + 40.24 + 35.83 + 33 + 31.38 + 30.26 + 30.01 + 29.01 + 28.61 + 28.31"
      ],
      "execution_count": null,
      "outputs": [
        {
          "output_type": "execute_result",
          "data": {
            "text/plain": [
              "369.39"
            ]
          },
          "metadata": {
            "tags": []
          },
          "execution_count": 39
        }
      ]
    },
    {
      "cell_type": "code",
      "metadata": {
        "colab": {
          "base_uri": "https://localhost:8080/"
        },
        "id": "CBwvgJprxWu_",
        "outputId": "f06e5405-c2dc-48a2-96c4-8147d3e8dda3"
      },
      "source": [
        "round(82.74/369.39 * 100, 1)"
      ],
      "execution_count": null,
      "outputs": [
        {
          "output_type": "execute_result",
          "data": {
            "text/plain": [
              "22.4"
            ]
          },
          "metadata": {
            "tags": []
          },
          "execution_count": 40
        }
      ]
    },
    {
      "cell_type": "code",
      "metadata": {
        "colab": {
          "base_uri": "https://localhost:8080/"
        },
        "id": "B8HbAgCHxdy5",
        "outputId": "e11eadc8-ec47-4939-d8d3-2a0c60959efb"
      },
      "source": [
        "round(40.24/369.39 * 100, 1)"
      ],
      "execution_count": null,
      "outputs": [
        {
          "output_type": "execute_result",
          "data": {
            "text/plain": [
              "10.9"
            ]
          },
          "metadata": {
            "tags": []
          },
          "execution_count": 41
        }
      ]
    },
    {
      "cell_type": "code",
      "metadata": {
        "colab": {
          "base_uri": "https://localhost:8080/"
        },
        "id": "d9lDNLRQxqE6",
        "outputId": "b0fcbe45-8cc1-497e-fcf3-f4c216dcfc0b"
      },
      "source": [
        "round(35.83/369.39 * 100, 1)"
      ],
      "execution_count": null,
      "outputs": [
        {
          "output_type": "execute_result",
          "data": {
            "text/plain": [
              "9.7"
            ]
          },
          "metadata": {
            "tags": []
          },
          "execution_count": 42
        }
      ]
    },
    {
      "cell_type": "code",
      "metadata": {
        "colab": {
          "base_uri": "https://localhost:8080/"
        },
        "id": "veGumb6Bxwpx",
        "outputId": "4f7b2e64-9f43-4a12-c26a-81e0d12a9899"
      },
      "source": [
        "round(33/369.39 * 100, 1)"
      ],
      "execution_count": null,
      "outputs": [
        {
          "output_type": "execute_result",
          "data": {
            "text/plain": [
              "8.9"
            ]
          },
          "metadata": {
            "tags": []
          },
          "execution_count": 43
        }
      ]
    },
    {
      "cell_type": "code",
      "metadata": {
        "colab": {
          "base_uri": "https://localhost:8080/"
        },
        "id": "ZayilNrhxxD0",
        "outputId": "bee4ba78-68d3-412c-8a76-ac170ac67156"
      },
      "source": [
        "round(31.38/369.39 * 100, 1)"
      ],
      "execution_count": null,
      "outputs": [
        {
          "output_type": "execute_result",
          "data": {
            "text/plain": [
              "8.5"
            ]
          },
          "metadata": {
            "tags": []
          },
          "execution_count": 44
        }
      ]
    },
    {
      "cell_type": "code",
      "metadata": {
        "colab": {
          "base_uri": "https://localhost:8080/"
        },
        "id": "LTzEEdeVxxeE",
        "outputId": "6d57eeb2-da5a-41ca-b0d7-fdbc01f3b72d"
      },
      "source": [
        "round(30.26/369.39 * 100, 1)"
      ],
      "execution_count": null,
      "outputs": [
        {
          "output_type": "execute_result",
          "data": {
            "text/plain": [
              "8.2"
            ]
          },
          "metadata": {
            "tags": []
          },
          "execution_count": 45
        }
      ]
    },
    {
      "cell_type": "code",
      "metadata": {
        "colab": {
          "base_uri": "https://localhost:8080/"
        },
        "id": "nQy8ms15xxvV",
        "outputId": "6fd7e6ed-db60-43a6-898a-d2093568e7c6"
      },
      "source": [
        "round(30.01/369.39 * 100, 1)"
      ],
      "execution_count": null,
      "outputs": [
        {
          "output_type": "execute_result",
          "data": {
            "text/plain": [
              "8.1"
            ]
          },
          "metadata": {
            "tags": []
          },
          "execution_count": 46
        }
      ]
    },
    {
      "cell_type": "code",
      "metadata": {
        "colab": {
          "base_uri": "https://localhost:8080/"
        },
        "id": "eMa9fsapxyIS",
        "outputId": "adefa886-e521-49c4-8747-28ab7e1ade36"
      },
      "source": [
        "round(29.01/369.39 * 100, 1)"
      ],
      "execution_count": null,
      "outputs": [
        {
          "output_type": "execute_result",
          "data": {
            "text/plain": [
              "7.9"
            ]
          },
          "metadata": {
            "tags": []
          },
          "execution_count": 47
        }
      ]
    },
    {
      "cell_type": "code",
      "metadata": {
        "colab": {
          "base_uri": "https://localhost:8080/"
        },
        "id": "ynXQe8xHxye6",
        "outputId": "a27bb7c9-ed1a-4721-f073-835f8f2b90a5"
      },
      "source": [
        "round(28.61/369.39 * 100, 1)"
      ],
      "execution_count": null,
      "outputs": [
        {
          "output_type": "execute_result",
          "data": {
            "text/plain": [
              "7.7"
            ]
          },
          "metadata": {
            "tags": []
          },
          "execution_count": 48
        }
      ]
    },
    {
      "cell_type": "code",
      "metadata": {
        "colab": {
          "base_uri": "https://localhost:8080/"
        },
        "id": "EBeMV5xYxy61",
        "outputId": "943efeb2-9304-4444-c6e9-3c9c2c754dd1"
      },
      "source": [
        "round(28.31/369.39* 100, 1)"
      ],
      "execution_count": null,
      "outputs": [
        {
          "output_type": "execute_result",
          "data": {
            "text/plain": [
              "7.7"
            ]
          },
          "metadata": {
            "tags": []
          },
          "execution_count": 49
        }
      ]
    },
    {
      "cell_type": "code",
      "metadata": {
        "id": "x-WSauz5zCck"
      },
      "source": [
        "## 결과값을 pie 차트로 나타낸다."
      ],
      "execution_count": null,
      "outputs": []
    },
    {
      "cell_type": "code",
      "metadata": {
        "id": "TVmDJZ36xUqT"
      },
      "source": [
        "ratio = [22.4, 10.9, 9.7, 8.9, 8.5, 8.2, 8.1, 7.9, 7.7, 7.7]\n",
        "labels = ['Wii_Sports', 'Super_Mario_Bros', 'Mario_Kart_Wii', 'Wii_Sports_Resort',\n",
        "          'Pokemon_Red_Pokemon_Blue', 'Tetris', 'New_Super_Mario_Bros', 'Wii_Play',\n",
        "          'New_Super_Mario_Bros_Wii','Duck_Hunt']"
      ],
      "execution_count": null,
      "outputs": []
    },
    {
      "cell_type": "code",
      "metadata": {
        "colab": {
          "base_uri": "https://localhost:8080/",
          "height": 466
        },
        "id": "4MXu9GXQyV5c",
        "outputId": "098a858a-2146-4992-de95-aa42e1f8f032"
      },
      "source": [
        "plt.pie(ratio, labels=labels, autopct='%.1f%%', startangle=260, counterclock=False)\n",
        "plt.show()"
      ],
      "execution_count": null,
      "outputs": [
        {
          "output_type": "display_data",
          "data": {
            "image/png": "[encoded data removed]",
            "text/plain": [
              "<Figure size 864x576 with 1 Axes>"
            ]
          },
          "metadata": {
            "tags": []
          }
        }
      ]
    },
    {
      "cell_type": "code",
      "metadata": {
        "id": "kW4BlGqN-Fv0"
      },
      "source": [
        "## Wii Sports 가 전 세계적으로 출고량이 가장 높았던 게임입니다.\n",
        "## NA 는 Action, EU는 Action, JP는 Role-Playing, 그 외 지역들은 Action 장르의 게임들이 출고량 1위를 차지했습니다.\n",
        "## 따라서, 매출량을 증가시키려면 세계적으로 인기있는 장르인 action 게임을 설계해야합니다."
      ],
      "execution_count": null,
      "outputs": []
    }
  ]
}